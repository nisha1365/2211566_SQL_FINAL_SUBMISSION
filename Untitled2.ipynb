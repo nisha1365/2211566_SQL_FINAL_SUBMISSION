{
  "nbformat": 4,
  "nbformat_minor": 0,
  "metadata": {
    "colab": {
      "name": "Untitled2.ipynb",
      "provenance": [],
      "authorship_tag": "ABX9TyM60o82OBKZgSoUe0FPZlCM",
      "include_colab_link": true
    },
    "kernelspec": {
      "name": "python3",
      "display_name": "Python 3"
    },
    "language_info": {
      "name": "python"
    }
  },
  "cells": [
    {
      "cell_type": "markdown",
      "metadata": {
        "id": "view-in-github",
        "colab_type": "text"
      },
      "source": [
        "<a href=\"https://colab.research.google.com/github/nisha1365/2211566_SQL_FINAL_SUBMISSION/blob/main/Untitled2.ipynb\" target=\"_parent\"><img src=\"https://colab.research.google.com/assets/colab-badge.svg\" alt=\"Open In Colab\"/></a>"
      ]
    },
    {
      "cell_type": "code",
      "execution_count": 9,
      "metadata": {
        "colab": {
          "base_uri": "https://localhost:8080/"
        },
        "id": "T2WsjNofccl7",
        "outputId": "bc549ee0-499d-4b32-afd2-1aec94b10f0d"
      },
      "outputs": [
        {
          "output_type": "stream",
          "name": "stdout",
          "text": [
            "Writing script.py\n"
          ]
        }
      ],
      "source": [
        "%%writefile script.py\n",
        "n1 = float(input(\" Please Enter the First Value a: \"))\n",
        "n2 = float(input(\" Please Enter the Second Value b: \"))\n"
      ]
    },
    {
      "cell_type": "code",
      "source": [
        "%%writefile script.py\n",
        "if(n1 > n2):\n",
        "    print(\"{0} is Greater than {1}\".format(n1, n2))\n",
        "elif(n2 > n1):\n",
        "    print(\"{0} is Greater than {1}\".format(n1, n2))\n",
        "else:\n",
        "    print(\"Both n1 and n2 are Equal\")"
      ],
      "metadata": {
        "colab": {
          "base_uri": "https://localhost:8080/"
        },
        "id": "nB95esfceFRu",
        "outputId": "2bee3add-e867-4851-8867-a9552be62eac"
      },
      "execution_count": 10,
      "outputs": [
        {
          "output_type": "stream",
          "name": "stdout",
          "text": [
            "Writing script.py\n"
          ]
        }
      ]
    },
    {
      "cell_type": "code",
      "source": [
        ""
      ],
      "metadata": {
        "id": "4-XH7hHJdcL6"
      },
      "execution_count": null,
      "outputs": []
    }
  ]
}